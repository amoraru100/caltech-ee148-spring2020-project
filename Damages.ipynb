{
 "cells": [
  {
   "cell_type": "markdown",
   "metadata": {},
   "source": [
    "## Imports"
   ]
  },
  {
   "cell_type": "code",
   "execution_count": 11,
   "metadata": {},
   "outputs": [],
   "source": [
    "import keras\n",
    "import pandas as pd\n",
    "import os\n",
    "import numpy as np\n",
    "from PIL import Image\n",
    "from keras.optimizers import Adam\n",
    "from keras.models import Sequential, Model\n",
    "from keras.layers import BatchNormalization, Reshape, Conv2D, MaxPooling2D, Activation, Dropout, Dense, Flatten, Input, concatenate\n",
    "\n",
    "\n",
    "import warnings\n",
    "warnings.filterwarnings(\"ignore\")"
   ]
  },
  {
   "cell_type": "markdown",
   "metadata": {},
   "source": [
    "## Set paths and read data"
   ]
  },
  {
   "cell_type": "code",
   "execution_count": 12,
   "metadata": {},
   "outputs": [],
   "source": [
    "car_damages_cleaned_path = 'car_damages_cleaned.csv'\n",
    "data_dir = './data_damages/'\n",
    "\n",
    "damages_data = pd.read_csv(car_damages_cleaned_path)"
   ]
  },
  {
   "cell_type": "code",
   "execution_count": 13,
   "metadata": {},
   "outputs": [
    {
     "data": {
      "text/html": [
       "<div>\n",
       "<style scoped>\n",
       "    .dataframe tbody tr th:only-of-type {\n",
       "        vertical-align: middle;\n",
       "    }\n",
       "\n",
       "    .dataframe tbody tr th {\n",
       "        vertical-align: top;\n",
       "    }\n",
       "\n",
       "    .dataframe thead th {\n",
       "        text-align: right;\n",
       "    }\n",
       "</style>\n",
       "<table border=\"1\" class=\"dataframe\">\n",
       "  <thead>\n",
       "    <tr style=\"text-align: right;\">\n",
       "      <th></th>\n",
       "      <th>listing_id</th>\n",
       "      <th>year</th>\n",
       "      <th>make</th>\n",
       "      <th>model</th>\n",
       "      <th>damage</th>\n",
       "      <th>est_value</th>\n",
       "      <th>full_label</th>\n",
       "      <th>listing_url</th>\n",
       "      <th>image1_url</th>\n",
       "      <th>image2_url</th>\n",
       "      <th>image3_url</th>\n",
       "      <th>image4_url</th>\n",
       "    </tr>\n",
       "  </thead>\n",
       "  <tbody>\n",
       "    <tr>\n",
       "      <th>0</th>\n",
       "      <td>23885009</td>\n",
       "      <td>2010</td>\n",
       "      <td>ACURA</td>\n",
       "      <td>MDX</td>\n",
       "      <td>FRONT END</td>\n",
       "      <td>12726</td>\n",
       "      <td>2010 ACURA MDX</td>\n",
       "      <td>https://www.copart.com/lot/23885009</td>\n",
       "      <td>https://cs.copart.com/v1/AUTH_svc.pdoc00001/PIX133/a36fc639-f0d6-43a1-91b5-afac3efeaa53.JPG</td>\n",
       "      <td>https://cs.copart.com/v1/AUTH_svc.pdoc00001/PIX133/a3405d62-f6eb-4a59-9e1a-af41e4ffb1d2.JPG</td>\n",
       "      <td>https://cs.copart.com/v1/AUTH_svc.pdoc00001/PIX133/f6fd4cc2-453e-41eb-a532-1c5c07985469.JPG</td>\n",
       "      <td>https://cs.copart.com/v1/AUTH_svc.pdoc00001/PIX133/a15abbac-bb28-4383-afb0-59cfdd5de5f9.JPG</td>\n",
       "    </tr>\n",
       "    <tr>\n",
       "      <th>1</th>\n",
       "      <td>24487306</td>\n",
       "      <td>2002</td>\n",
       "      <td>ACURA</td>\n",
       "      <td>3.2 CL</td>\n",
       "      <td>FRONT END</td>\n",
       "      <td>1984</td>\n",
       "      <td>2002 ACURA 3.2CL</td>\n",
       "      <td>https://www.copart.com/lot/24487306</td>\n",
       "      <td>https://cs.copart.com/v1/AUTH_svc.pdoc00001/PIX4/fc065d91-59b4-4944-9730-bafc854552f4.JPG</td>\n",
       "      <td>https://cs.copart.com/v1/AUTH_svc.pdoc00001/PIX4/9e4d3a1f-8fb8-4c8f-99b0-396ee6a99460.JPG</td>\n",
       "      <td>https://cs.copart.com/v1/AUTH_svc.pdoc00001/PIX4/a6d2e762-89fe-4c28-8f7c-cf567c3fe49f.JPG</td>\n",
       "      <td>https://cs.copart.com/v1/AUTH_svc.pdoc00001/PIX4/48d446e3-92c4-448e-a1b9-84cfe245a122.JPG</td>\n",
       "    </tr>\n",
       "    <tr>\n",
       "      <th>2</th>\n",
       "      <td>25667019</td>\n",
       "      <td>2012</td>\n",
       "      <td>ACURA</td>\n",
       "      <td>TL</td>\n",
       "      <td>FRONT END</td>\n",
       "      <td>13095</td>\n",
       "      <td>2012 ACURA TL</td>\n",
       "      <td>https://www.copart.com/lot/25667019</td>\n",
       "      <td>https://cs.copart.com/v1/AUTH_svc.pdoc00001/PIX133/554ed268-ad2f-4f82-a45d-4ab0a4d3bce9.JPG</td>\n",
       "      <td>https://cs.copart.com/v1/AUTH_svc.pdoc00001/PIX133/550e5154-4e24-4a02-b6c2-593579de946f.JPG</td>\n",
       "      <td>https://cs.copart.com/v1/AUTH_svc.pdoc00001/PIX133/5efb5e18-cd6e-48ee-b53c-d3b410027533.JPG</td>\n",
       "      <td>https://cs.copart.com/v1/AUTH_svc.pdoc00001/PIX133/8c49217c-232d-4579-bb97-3e5177b0d901.JPG</td>\n",
       "    </tr>\n",
       "    <tr>\n",
       "      <th>3</th>\n",
       "      <td>25717579</td>\n",
       "      <td>2005</td>\n",
       "      <td>ACURA</td>\n",
       "      <td>TL</td>\n",
       "      <td>VANDALISM</td>\n",
       "      <td>4275</td>\n",
       "      <td>2005 ACURA TL</td>\n",
       "      <td>https://www.copart.com/lot/25717579</td>\n",
       "      <td>https://cs.copart.com/v1/AUTH_svc.pdoc00001/PIX134/511a8e49-0a71-4ddc-8195-1d5f402405ad.JPG</td>\n",
       "      <td>https://cs.copart.com/v1/AUTH_svc.pdoc00001/PIX134/8c1b905e-da04-4957-947d-5e322fe5d2b9.JPG</td>\n",
       "      <td>https://cs.copart.com/v1/AUTH_svc.pdoc00001/PIX134/295cbc24-6f9a-4dbc-a3e3-972e724126d2.JPG</td>\n",
       "      <td>https://cs.copart.com/v1/AUTH_svc.pdoc00001/PIX134/2c25ec02-ef8f-4169-a52b-a6bf3858c65f.JPG</td>\n",
       "    </tr>\n",
       "    <tr>\n",
       "      <th>4</th>\n",
       "      <td>25887480</td>\n",
       "      <td>2008</td>\n",
       "      <td>ACURA</td>\n",
       "      <td>MDX TECHNO</td>\n",
       "      <td>FRONT END</td>\n",
       "      <td>7742</td>\n",
       "      <td>2008 ACURA MDX TECHNOLOGY</td>\n",
       "      <td>https://www.copart.com/lot/25887480</td>\n",
       "      <td>https://cs.copart.com/v1/AUTH_svc.pdoc00001/PIX235/2a758cfa-0d39-4d10-b49f-20c0f6468461.JPG</td>\n",
       "      <td>https://cs.copart.com/v1/AUTH_svc.pdoc00001/PIX235/388d20b0-c9f5-4c22-8363-9cf9df3748b9.JPG</td>\n",
       "      <td>https://cs.copart.com/v1/AUTH_svc.pdoc00001/PIX235/e64d60ed-4b1b-4b2b-ba80-d9422b83055d.JPG</td>\n",
       "      <td>https://cs.copart.com/v1/AUTH_svc.pdoc00001/PIX235/50abfeba-7cb3-48e3-bcb5-b430e14ec737.JPG</td>\n",
       "    </tr>\n",
       "  </tbody>\n",
       "</table>\n",
       "</div>"
      ],
      "text/plain": [
       "   listing_id  year   make       model     damage  est_value  \\\n",
       "0  23885009    2010  ACURA  MDX         FRONT END  12726       \n",
       "1  24487306    2002  ACURA  3.2 CL      FRONT END  1984        \n",
       "2  25667019    2012  ACURA  TL          FRONT END  13095       \n",
       "3  25717579    2005  ACURA  TL          VANDALISM  4275        \n",
       "4  25887480    2008  ACURA  MDX TECHNO  FRONT END  7742        \n",
       "\n",
       "                  full_label                          listing_url  \\\n",
       "0  2010 ACURA MDX             https://www.copart.com/lot/23885009   \n",
       "1  2002 ACURA 3.2CL           https://www.copart.com/lot/24487306   \n",
       "2  2012 ACURA TL              https://www.copart.com/lot/25667019   \n",
       "3  2005 ACURA TL              https://www.copart.com/lot/25717579   \n",
       "4  2008 ACURA MDX TECHNOLOGY  https://www.copart.com/lot/25887480   \n",
       "\n",
       "                                                                                    image1_url  \\\n",
       "0  https://cs.copart.com/v1/AUTH_svc.pdoc00001/PIX133/a36fc639-f0d6-43a1-91b5-afac3efeaa53.JPG   \n",
       "1  https://cs.copart.com/v1/AUTH_svc.pdoc00001/PIX4/fc065d91-59b4-4944-9730-bafc854552f4.JPG     \n",
       "2  https://cs.copart.com/v1/AUTH_svc.pdoc00001/PIX133/554ed268-ad2f-4f82-a45d-4ab0a4d3bce9.JPG   \n",
       "3  https://cs.copart.com/v1/AUTH_svc.pdoc00001/PIX134/511a8e49-0a71-4ddc-8195-1d5f402405ad.JPG   \n",
       "4  https://cs.copart.com/v1/AUTH_svc.pdoc00001/PIX235/2a758cfa-0d39-4d10-b49f-20c0f6468461.JPG   \n",
       "\n",
       "                                                                                    image2_url  \\\n",
       "0  https://cs.copart.com/v1/AUTH_svc.pdoc00001/PIX133/a3405d62-f6eb-4a59-9e1a-af41e4ffb1d2.JPG   \n",
       "1  https://cs.copart.com/v1/AUTH_svc.pdoc00001/PIX4/9e4d3a1f-8fb8-4c8f-99b0-396ee6a99460.JPG     \n",
       "2  https://cs.copart.com/v1/AUTH_svc.pdoc00001/PIX133/550e5154-4e24-4a02-b6c2-593579de946f.JPG   \n",
       "3  https://cs.copart.com/v1/AUTH_svc.pdoc00001/PIX134/8c1b905e-da04-4957-947d-5e322fe5d2b9.JPG   \n",
       "4  https://cs.copart.com/v1/AUTH_svc.pdoc00001/PIX235/388d20b0-c9f5-4c22-8363-9cf9df3748b9.JPG   \n",
       "\n",
       "                                                                                    image3_url  \\\n",
       "0  https://cs.copart.com/v1/AUTH_svc.pdoc00001/PIX133/f6fd4cc2-453e-41eb-a532-1c5c07985469.JPG   \n",
       "1  https://cs.copart.com/v1/AUTH_svc.pdoc00001/PIX4/a6d2e762-89fe-4c28-8f7c-cf567c3fe49f.JPG     \n",
       "2  https://cs.copart.com/v1/AUTH_svc.pdoc00001/PIX133/5efb5e18-cd6e-48ee-b53c-d3b410027533.JPG   \n",
       "3  https://cs.copart.com/v1/AUTH_svc.pdoc00001/PIX134/295cbc24-6f9a-4dbc-a3e3-972e724126d2.JPG   \n",
       "4  https://cs.copart.com/v1/AUTH_svc.pdoc00001/PIX235/e64d60ed-4b1b-4b2b-ba80-d9422b83055d.JPG   \n",
       "\n",
       "                                                                                    image4_url  \n",
       "0  https://cs.copart.com/v1/AUTH_svc.pdoc00001/PIX133/a15abbac-bb28-4383-afb0-59cfdd5de5f9.JPG  \n",
       "1  https://cs.copart.com/v1/AUTH_svc.pdoc00001/PIX4/48d446e3-92c4-448e-a1b9-84cfe245a122.JPG    \n",
       "2  https://cs.copart.com/v1/AUTH_svc.pdoc00001/PIX133/8c49217c-232d-4579-bb97-3e5177b0d901.JPG  \n",
       "3  https://cs.copart.com/v1/AUTH_svc.pdoc00001/PIX134/2c25ec02-ef8f-4169-a52b-a6bf3858c65f.JPG  \n",
       "4  https://cs.copart.com/v1/AUTH_svc.pdoc00001/PIX235/50abfeba-7cb3-48e3-bcb5-b430e14ec737.JPG  "
      ]
     },
     "execution_count": 13,
     "metadata": {},
     "output_type": "execute_result"
    }
   ],
   "source": [
    "pd.set_option('display.max_colwidth', 0)\n",
    "damages_data.head()"
   ]
  },
  {
   "cell_type": "markdown",
   "metadata": {},
   "source": [
    "## One hot encoding "
   ]
  },
  {
   "cell_type": "code",
   "execution_count": 14,
   "metadata": {},
   "outputs": [],
   "source": [
    "def encoder(df, column):\n",
    "    encoder_dict = {}\n",
    "    idx = 0\n",
    "    for i in range(len(df)) : \n",
    "        value = df.loc[i, column]\n",
    "        if (value not in encoder_dict):\n",
    "            encoder_dict[value] = idx\n",
    "            df.loc[i, column] = idx\n",
    "            idx += 1\n",
    "        else:\n",
    "            encoding = encoder_dict[value]\n",
    "            df.loc[i, column] = encoding\n",
    "    return df[column], encoder_dict\n",
    " \n",
    "modified_data = pd.DataFrame()\n",
    "modified_data['listing_id'] = damages_data['listing_id']\n",
    "modified_data['damage'], damage_encoder = encoder(damages_data, 'damage')\n",
    "modified_data['make'], make_encoder = encoder(damages_data, 'make')\n",
    "modified_data['model'], model_encoder = encoder(damages_data, 'model')\n",
    "modified_data['full_label'], full_label_encoder = encoder(damages_data, 'full_label')\n",
    "modified_data['est_value'] = damages_data['est_value']\n",
    "modified_data['year'] = damages_data['year']"
   ]
  },
  {
   "cell_type": "code",
   "execution_count": 15,
   "metadata": {},
   "outputs": [
    {
     "data": {
      "text/html": [
       "<div>\n",
       "<style scoped>\n",
       "    .dataframe tbody tr th:only-of-type {\n",
       "        vertical-align: middle;\n",
       "    }\n",
       "\n",
       "    .dataframe tbody tr th {\n",
       "        vertical-align: top;\n",
       "    }\n",
       "\n",
       "    .dataframe thead th {\n",
       "        text-align: right;\n",
       "    }\n",
       "</style>\n",
       "<table border=\"1\" class=\"dataframe\">\n",
       "  <thead>\n",
       "    <tr style=\"text-align: right;\">\n",
       "      <th></th>\n",
       "      <th>listing_id</th>\n",
       "      <th>damage</th>\n",
       "      <th>make</th>\n",
       "      <th>model</th>\n",
       "      <th>full_label</th>\n",
       "      <th>est_value</th>\n",
       "      <th>year</th>\n",
       "    </tr>\n",
       "  </thead>\n",
       "  <tbody>\n",
       "    <tr>\n",
       "      <th>0</th>\n",
       "      <td>23885009</td>\n",
       "      <td>0</td>\n",
       "      <td>0</td>\n",
       "      <td>0</td>\n",
       "      <td>0</td>\n",
       "      <td>12726</td>\n",
       "      <td>2010</td>\n",
       "    </tr>\n",
       "    <tr>\n",
       "      <th>1</th>\n",
       "      <td>24487306</td>\n",
       "      <td>0</td>\n",
       "      <td>0</td>\n",
       "      <td>1</td>\n",
       "      <td>1</td>\n",
       "      <td>1984</td>\n",
       "      <td>2002</td>\n",
       "    </tr>\n",
       "    <tr>\n",
       "      <th>2</th>\n",
       "      <td>25667019</td>\n",
       "      <td>0</td>\n",
       "      <td>0</td>\n",
       "      <td>2</td>\n",
       "      <td>2</td>\n",
       "      <td>13095</td>\n",
       "      <td>2012</td>\n",
       "    </tr>\n",
       "    <tr>\n",
       "      <th>3</th>\n",
       "      <td>25717579</td>\n",
       "      <td>1</td>\n",
       "      <td>0</td>\n",
       "      <td>2</td>\n",
       "      <td>3</td>\n",
       "      <td>4275</td>\n",
       "      <td>2005</td>\n",
       "    </tr>\n",
       "    <tr>\n",
       "      <th>4</th>\n",
       "      <td>25887480</td>\n",
       "      <td>0</td>\n",
       "      <td>0</td>\n",
       "      <td>3</td>\n",
       "      <td>4</td>\n",
       "      <td>7742</td>\n",
       "      <td>2008</td>\n",
       "    </tr>\n",
       "  </tbody>\n",
       "</table>\n",
       "</div>"
      ],
      "text/plain": [
       "   listing_id damage make model full_label  est_value  year\n",
       "0  23885009    0      0    0     0          12726      2010\n",
       "1  24487306    0      0    1     1          1984       2002\n",
       "2  25667019    0      0    2     2          13095      2012\n",
       "3  25717579    1      0    2     3          4275       2005\n",
       "4  25887480    0      0    3     4          7742       2008"
      ]
     },
     "execution_count": 15,
     "metadata": {},
     "output_type": "execute_result"
    }
   ],
   "source": [
    "modified_data.head()"
   ]
  },
  {
   "cell_type": "code",
   "execution_count": 55,
   "metadata": {},
   "outputs": [
    {
     "name": "stdout",
     "output_type": "stream",
     "text": [
      "Number of unique makes in dataset:  25\n",
      "Number of unique models in dataset:  498\n",
      "Number of unique years in dataset:  27\n",
      "Number of unique damage types in dataset:  18\n",
      "Number of unique labels (make, model, and year) in dataset:  947\n",
      "Total number of datapoints:  1180\n"
     ]
    }
   ],
   "source": [
    "print('Number of unique makes in dataset: ', len(modified_data.make.unique()))\n",
    "print('Number of unique models in dataset: ', len(modified_data.model.unique()))\n",
    "print('Number of unique years in dataset: ', len(modified_data.year.unique()))\n",
    "print('Number of unique damage types in dataset: ', len(modified_data.damage.unique()))\n",
    "print('Number of unique labels (make, model, and year) in dataset: ', len(modified_data.full_label.unique()))\n",
    "print('Total number of datapoints: ', len(modified_data))"
   ]
  },
  {
   "cell_type": "markdown",
   "metadata": {},
   "source": [
    "## Convert images to Numpy arrays"
   ]
  },
  {
   "cell_type": "code",
   "execution_count": 17,
   "metadata": {},
   "outputs": [],
   "source": [
    "def convert_images(df, column, idx):\n",
    "    for i in range(len(df)) : \n",
    "        listing_id = df.loc[i, 'listing_id']\n",
    "        image = Image.open(data_dir + '{}-{}.jpg'.format(listing_id, idx)).resize((250,250))\n",
    "        \n",
    "        image_array = np.array(image)\n",
    "        df.at[i, column] = image_array\n",
    "    return df[column]\n",
    "\n",
    "modified_data['image1'] = None\n",
    "modified_data['image2'] = None\n",
    "modified_data['image3'] = None\n",
    "modified_data['image1'] = convert_images(modified_data, 'image1', 1)\n",
    "modified_data['image2'] = convert_images(modified_data, 'image2', 2)\n",
    "modified_data['image3'] = convert_images(modified_data, 'image3', 4)\n"
   ]
  },
  {
   "cell_type": "code",
   "execution_count": 18,
   "metadata": {},
   "outputs": [],
   "source": [
    "modified_data_path = 'modified_damages.csv'\n",
    "modified_data.to_csv(modified_data_path)"
   ]
  },
  {
   "cell_type": "code",
   "execution_count": 20,
   "metadata": {},
   "outputs": [],
   "source": [
    "def image_consolidator(df):\n",
    "    images = np.zeros((250, 750, 3))\n",
    "    for i in range(len(df)):\n",
    "        image1 = df.loc[i, 'image1']\n",
    "        image2 = df.loc[i, 'image2']\n",
    "        image3 = df.loc[i, 'image3']\n",
    "        images[0:250, 0:250] = image1\n",
    "        images[0:250, 250:500] = image2\n",
    "        images[0:250, 500:750] = image3\n",
    "        df.at[i, 'images'] = images\n",
    "    return df['images']\n",
    "    \n",
    "modified_data['images'] = None\n",
    "modified_data['images'] = image_consolidator(modified_data)"
   ]
  },
  {
   "cell_type": "code",
   "execution_count": 21,
   "metadata": {},
   "outputs": [],
   "source": [
    "from sklearn.model_selection import train_test_split\n",
    "\n",
    "x_train, x_test, y_train, y_test = train_test_split(modified_data[['listing_id', 'damage', 'make', 'model', 'year', 'full_label', 'images']], modified_data[['est_value']], test_size=0.20, random_state=2020)\n",
    "x_train, x_valid, y_train, y_valid = train_test_split(modified_data[['listing_id', 'damage', 'make', 'model', 'year', 'full_label', 'images']], modified_data[['est_value']], test_size=0.25, random_state=2020)"
   ]
  },
  {
   "cell_type": "code",
   "execution_count": 22,
   "metadata": {},
   "outputs": [],
   "source": [
    "x_train_images = x_train[['images']]/255\n",
    "x_valid_images = x_valid[['images']]/255\n",
    "x_test_images = x_test[['images']]/255\n",
    "\n",
    "x_train_attributes = x_train[['listing_id', 'damage', 'make', 'model', 'year', 'full_label']]\n",
    "x_valid_attributes = x_valid[['listing_id', 'damage', 'make', 'model', 'year', 'full_label']]\n",
    "x_test_attributes = x_test[['listing_id', 'damage', 'make', 'model', 'year', 'full_label']]"
   ]
  },
  {
   "cell_type": "code",
   "execution_count": 23,
   "metadata": {},
   "outputs": [],
   "source": [
    "def reshape_dimensions(df):\n",
    "    all_images = []\n",
    "    for i in range(len(df)):\n",
    "        idx = df.index[i]\n",
    "        all_images.append(df.loc[idx, 'images'])\n",
    "    return np.array(all_images)\n",
    "\n",
    "x_train_images = reshape_dimensions(x_train_images)\n",
    "x_valid_images = reshape_dimensions(x_valid_images)\n",
    "x_test_images = reshape_dimensions(x_test_images)  "
   ]
  },
  {
   "cell_type": "code",
   "execution_count": null,
   "metadata": {},
   "outputs": [],
   "source": [
    "def categorical_data(regress=False):\n",
    "    model = Sequential()\n",
    "    model.add(Dense(8, input_dim=6, activation='relu'))\n",
    "    model.add(Dense(4, activation='relu'))\n",
    "    \n",
    "    if regress:\n",
    "        model.add(Dense(1, activation=\"linear\"))\n",
    "   \n",
    "    return model\n",
    "\n",
    "def image_data(regress=False):\n",
    "    \n",
    "    inputs = Input((250, 750, 3))\n",
    "    x = inputs\n",
    "    \n",
    "    x = Conv2D(16, (3,3), padding='same')(x)\n",
    "    x = Activation('relu')(x)\n",
    "    x = BatchNormalization(axis=-1)(x)\n",
    "    x = MaxPooling2D(pool_size=(10,10))(x)\n",
    "    x = Dropout(0.15)(x)\n",
    "    \n",
    "    x = Conv2D(64, (50,50), padding='same')(x)\n",
    "    x = Activation('relu')(x)\n",
    "    x = MaxPooling2D(pool_size=(20,20))(x)\n",
    "    x = Dropout(0.15)(x)\n",
    "    \n",
    "    x = Flatten()(x)\n",
    "    x = Dense(16)(x)\n",
    "    x = Activation('relu')(x)\n",
    "    x = BatchNormalization(axis=-1)(x)\n",
    "    x = Dropout(0.25)(x)\n",
    "    \n",
    "    x = Dense(6)(x)\n",
    "    x = Activation('relu')(x)\n",
    "    \n",
    "    if regress:\n",
    "        x = Dense(1, activation=\"linear\")(x)\n",
    " \n",
    "    model = Model(inputs, x)\n",
    "\n",
    "    return model"
   ]
  },
  {
   "cell_type": "code",
   "execution_count": null,
   "metadata": {},
   "outputs": [],
   "source": [
    "mlp = categorical_data()\n",
    "cnn = image_data()\n",
    "\n",
    "final_input = concatenate([mlp.output, cnn.output])\n",
    "\n",
    "x = Dense(6, activation=\"relu\")(final_input)\n",
    "x = Dense(1, activation=\"linear\")(x)\n",
    "\n",
    "model = Model([mlp.input, cnn.input], outputs=x)\n",
    "\n",
    "opt = Adam(lr=0.001)\n",
    "model.compile(loss=\"mean_absolute_percentage_error\", optimizer=opt)"
   ]
  },
  {
   "cell_type": "code",
   "execution_count": null,
   "metadata": {},
   "outputs": [],
   "source": [
    "print(\"Training model...\")\n",
    "model.fit([x_train_attributes, x_train_images], y_train, epochs = 2)"
   ]
  },
  {
   "cell_type": "code",
   "execution_count": null,
   "metadata": {},
   "outputs": [],
   "source": [
    "model.summary()"
   ]
  },
  {
   "cell_type": "code",
   "execution_count": 18,
   "metadata": {},
   "outputs": [
    {
     "name": "stdout",
     "output_type": "stream",
     "text": [
      "Predicting car prices...\n"
     ]
    }
   ],
   "source": [
    "print(\"Predicting car prices...\")\n",
    "preds = model.predict([x_valid_attributes, x_valid_images])"
   ]
  },
  {
   "cell_type": "code",
   "execution_count": 19,
   "metadata": {},
   "outputs": [],
   "source": [
    "y_valid = y_valid.reset_index()"
   ]
  },
  {
   "cell_type": "code",
   "execution_count": 24,
   "metadata": {},
   "outputs": [],
   "source": [
    "model.save('damages_model.h5')"
   ]
  },
  {
   "cell_type": "code",
   "execution_count": 20,
   "metadata": {},
   "outputs": [],
   "source": [
    "preds = pd.DataFrame(preds)\n",
    "result = pd.concat([preds, y_valid['est_value']], axis=1, ignore_index = True)\n",
    "result.columns = ['Predicted', 'Actual']"
   ]
  },
  {
   "cell_type": "code",
   "execution_count": 21,
   "metadata": {},
   "outputs": [
    {
     "name": "stdout",
     "output_type": "stream",
     "text": [
      "An utter disappointment...\n"
     ]
    },
    {
     "data": {
      "text/html": [
       "<div>\n",
       "<style scoped>\n",
       "    .dataframe tbody tr th:only-of-type {\n",
       "        vertical-align: middle;\n",
       "    }\n",
       "\n",
       "    .dataframe tbody tr th {\n",
       "        vertical-align: top;\n",
       "    }\n",
       "\n",
       "    .dataframe thead th {\n",
       "        text-align: right;\n",
       "    }\n",
       "</style>\n",
       "<table border=\"1\" class=\"dataframe\">\n",
       "  <thead>\n",
       "    <tr style=\"text-align: right;\">\n",
       "      <th></th>\n",
       "      <th>Predicted</th>\n",
       "      <th>Actual</th>\n",
       "    </tr>\n",
       "  </thead>\n",
       "  <tbody>\n",
       "    <tr>\n",
       "      <th>0</th>\n",
       "      <td>206.661774</td>\n",
       "      <td>13195</td>\n",
       "    </tr>\n",
       "    <tr>\n",
       "      <th>1</th>\n",
       "      <td>206.661774</td>\n",
       "      <td>31168</td>\n",
       "    </tr>\n",
       "    <tr>\n",
       "      <th>2</th>\n",
       "      <td>206.661774</td>\n",
       "      <td>24038</td>\n",
       "    </tr>\n",
       "    <tr>\n",
       "      <th>3</th>\n",
       "      <td>206.661774</td>\n",
       "      <td>10751</td>\n",
       "    </tr>\n",
       "    <tr>\n",
       "      <th>4</th>\n",
       "      <td>206.661774</td>\n",
       "      <td>41205</td>\n",
       "    </tr>\n",
       "    <tr>\n",
       "      <th>...</th>\n",
       "      <td>...</td>\n",
       "      <td>...</td>\n",
       "    </tr>\n",
       "    <tr>\n",
       "      <th>290</th>\n",
       "      <td>206.661774</td>\n",
       "      <td>15317</td>\n",
       "    </tr>\n",
       "    <tr>\n",
       "      <th>291</th>\n",
       "      <td>206.661774</td>\n",
       "      <td>22403</td>\n",
       "    </tr>\n",
       "    <tr>\n",
       "      <th>292</th>\n",
       "      <td>206.661774</td>\n",
       "      <td>12039</td>\n",
       "    </tr>\n",
       "    <tr>\n",
       "      <th>293</th>\n",
       "      <td>206.661774</td>\n",
       "      <td>19211</td>\n",
       "    </tr>\n",
       "    <tr>\n",
       "      <th>294</th>\n",
       "      <td>206.661774</td>\n",
       "      <td>11935</td>\n",
       "    </tr>\n",
       "  </tbody>\n",
       "</table>\n",
       "<p>295 rows × 2 columns</p>\n",
       "</div>"
      ],
      "text/plain": [
       "      Predicted  Actual\n",
       "0    206.661774   13195\n",
       "1    206.661774   31168\n",
       "2    206.661774   24038\n",
       "3    206.661774   10751\n",
       "4    206.661774   41205\n",
       "..          ...     ...\n",
       "290  206.661774   15317\n",
       "291  206.661774   22403\n",
       "292  206.661774   12039\n",
       "293  206.661774   19211\n",
       "294  206.661774   11935\n",
       "\n",
       "[295 rows x 2 columns]"
      ]
     },
     "execution_count": 21,
     "metadata": {},
     "output_type": "execute_result"
    }
   ],
   "source": [
    "print(\"An utter disappointment...\")\n",
    "result"
   ]
  },
  {
   "cell_type": "code",
   "execution_count": 24,
   "metadata": {},
   "outputs": [],
   "source": [
    "import keras\n",
    "from keras.models import load_model\n",
    "\n",
    "\n",
    "model = load_model('damages_model.h5')\n",
    "preds = model.predict([x_valid_attributes, x_valid_images])\n"
   ]
  },
  {
   "cell_type": "code",
   "execution_count": 29,
   "metadata": {},
   "outputs": [],
   "source": [
    "preds = pd.DataFrame(preds)\n",
    "y_valid = y_valid.reset_index()\n",
    "result = pd.concat([preds, y_valid['est_value']], axis=1, ignore_index = True)\n",
    "result.columns = ['Predicted', 'Actual']"
   ]
  },
  {
   "cell_type": "code",
   "execution_count": 30,
   "metadata": {},
   "outputs": [
    {
     "data": {
      "text/html": [
       "<div>\n",
       "<style scoped>\n",
       "    .dataframe tbody tr th:only-of-type {\n",
       "        vertical-align: middle;\n",
       "    }\n",
       "\n",
       "    .dataframe tbody tr th {\n",
       "        vertical-align: top;\n",
       "    }\n",
       "\n",
       "    .dataframe thead th {\n",
       "        text-align: right;\n",
       "    }\n",
       "</style>\n",
       "<table border=\"1\" class=\"dataframe\">\n",
       "  <thead>\n",
       "    <tr style=\"text-align: right;\">\n",
       "      <th></th>\n",
       "      <th>Predicted</th>\n",
       "      <th>Actual</th>\n",
       "    </tr>\n",
       "  </thead>\n",
       "  <tbody>\n",
       "    <tr>\n",
       "      <th>0</th>\n",
       "      <td>206.661774</td>\n",
       "      <td>13195</td>\n",
       "    </tr>\n",
       "    <tr>\n",
       "      <th>1</th>\n",
       "      <td>206.661774</td>\n",
       "      <td>31168</td>\n",
       "    </tr>\n",
       "    <tr>\n",
       "      <th>2</th>\n",
       "      <td>206.661774</td>\n",
       "      <td>24038</td>\n",
       "    </tr>\n",
       "    <tr>\n",
       "      <th>3</th>\n",
       "      <td>206.661774</td>\n",
       "      <td>10751</td>\n",
       "    </tr>\n",
       "    <tr>\n",
       "      <th>4</th>\n",
       "      <td>206.661774</td>\n",
       "      <td>41205</td>\n",
       "    </tr>\n",
       "    <tr>\n",
       "      <th>...</th>\n",
       "      <td>...</td>\n",
       "      <td>...</td>\n",
       "    </tr>\n",
       "    <tr>\n",
       "      <th>290</th>\n",
       "      <td>206.661774</td>\n",
       "      <td>15317</td>\n",
       "    </tr>\n",
       "    <tr>\n",
       "      <th>291</th>\n",
       "      <td>206.661774</td>\n",
       "      <td>22403</td>\n",
       "    </tr>\n",
       "    <tr>\n",
       "      <th>292</th>\n",
       "      <td>206.661774</td>\n",
       "      <td>12039</td>\n",
       "    </tr>\n",
       "    <tr>\n",
       "      <th>293</th>\n",
       "      <td>206.661774</td>\n",
       "      <td>19211</td>\n",
       "    </tr>\n",
       "    <tr>\n",
       "      <th>294</th>\n",
       "      <td>206.661774</td>\n",
       "      <td>11935</td>\n",
       "    </tr>\n",
       "  </tbody>\n",
       "</table>\n",
       "<p>295 rows × 2 columns</p>\n",
       "</div>"
      ],
      "text/plain": [
       "      Predicted  Actual\n",
       "0    206.661774  13195 \n",
       "1    206.661774  31168 \n",
       "2    206.661774  24038 \n",
       "3    206.661774  10751 \n",
       "4    206.661774  41205 \n",
       "..          ...    ... \n",
       "290  206.661774  15317 \n",
       "291  206.661774  22403 \n",
       "292  206.661774  12039 \n",
       "293  206.661774  19211 \n",
       "294  206.661774  11935 \n",
       "\n",
       "[295 rows x 2 columns]"
      ]
     },
     "execution_count": 30,
     "metadata": {},
     "output_type": "execute_result"
    }
   ],
   "source": [
    "result"
   ]
  },
  {
   "cell_type": "code",
   "execution_count": 34,
   "metadata": {},
   "outputs": [
    {
     "data": {
      "text/plain": [
       "110322.80624941268"
      ]
     },
     "execution_count": 34,
     "metadata": {},
     "output_type": "execute_result"
    }
   ],
   "source": [
    "from sklearn.metrics import mean_squared_error\n",
    "\n",
    "np.sqrt(mean_squared_error(y_valid['est_value'],preds))"
   ]
  },
  {
   "cell_type": "markdown",
   "metadata": {},
   "source": [
    "## Random forest classifier"
   ]
  },
  {
   "cell_type": "code",
   "execution_count": 46,
   "metadata": {},
   "outputs": [
    {
     "name": "stdout",
     "output_type": "stream",
     "text": [
      "Training model...\n"
     ]
    },
    {
     "data": {
      "text/plain": [
       "RandomForestClassifier(bootstrap=True, ccp_alpha=0.0, class_weight=None,\n",
       "                       criterion='gini', max_depth=None, max_features='auto',\n",
       "                       max_leaf_nodes=None, max_samples=None,\n",
       "                       min_impurity_decrease=0.0, min_impurity_split=None,\n",
       "                       min_samples_leaf=1, min_samples_split=2,\n",
       "                       min_weight_fraction_leaf=0.0, n_estimators=150,\n",
       "                       n_jobs=None, oob_score=False, random_state=None,\n",
       "                       verbose=0, warm_start=False)"
      ]
     },
     "execution_count": 46,
     "metadata": {},
     "output_type": "execute_result"
    }
   ],
   "source": [
    "from sklearn.ensemble import RandomForestClassifier\n",
    "\n",
    "clf = RandomForestClassifier(n_estimators=150)\n",
    "print(\"Training model...\")\n",
    "clf.fit(x_train_attributes, y_train)"
   ]
  },
  {
   "cell_type": "code",
   "execution_count": 47,
   "metadata": {},
   "outputs": [
    {
     "name": "stdout",
     "output_type": "stream",
     "text": [
      "Predicting car prices (without images)...\n"
     ]
    }
   ],
   "source": [
    "print(\"Predicting car prices (without images)...\")\n",
    "preds2 = clf.predict(x_valid_attributes)"
   ]
  },
  {
   "cell_type": "code",
   "execution_count": 53,
   "metadata": {},
   "outputs": [],
   "source": [
    "preds2 = pd.DataFrame(preds2)\n",
    "result2 = pd.concat([preds2, y_valid['est_value']], axis=1, ignore_index = True)\n",
    "result2.columns = ['Predicted Retail Value', 'Listed Retail Value']"
   ]
  },
  {
   "cell_type": "code",
   "execution_count": 54,
   "metadata": {},
   "outputs": [
    {
     "name": "stdout",
     "output_type": "stream",
     "text": [
      "Another utter disappointment...\n"
     ]
    },
    {
     "data": {
      "text/html": [
       "<div>\n",
       "<style scoped>\n",
       "    .dataframe tbody tr th:only-of-type {\n",
       "        vertical-align: middle;\n",
       "    }\n",
       "\n",
       "    .dataframe tbody tr th {\n",
       "        vertical-align: top;\n",
       "    }\n",
       "\n",
       "    .dataframe thead th {\n",
       "        text-align: right;\n",
       "    }\n",
       "</style>\n",
       "<table border=\"1\" class=\"dataframe\">\n",
       "  <thead>\n",
       "    <tr style=\"text-align: right;\">\n",
       "      <th></th>\n",
       "      <th>Predicted Retail Value</th>\n",
       "      <th>Listed Retail Value</th>\n",
       "    </tr>\n",
       "  </thead>\n",
       "  <tbody>\n",
       "    <tr>\n",
       "      <th>0</th>\n",
       "      <td>13892</td>\n",
       "      <td>13195</td>\n",
       "    </tr>\n",
       "    <tr>\n",
       "      <th>1</th>\n",
       "      <td>14847</td>\n",
       "      <td>31168</td>\n",
       "    </tr>\n",
       "    <tr>\n",
       "      <th>2</th>\n",
       "      <td>12601</td>\n",
       "      <td>24038</td>\n",
       "    </tr>\n",
       "    <tr>\n",
       "      <th>3</th>\n",
       "      <td>18047</td>\n",
       "      <td>10751</td>\n",
       "    </tr>\n",
       "    <tr>\n",
       "      <th>4</th>\n",
       "      <td>25508</td>\n",
       "      <td>41205</td>\n",
       "    </tr>\n",
       "    <tr>\n",
       "      <th>...</th>\n",
       "      <td>...</td>\n",
       "      <td>...</td>\n",
       "    </tr>\n",
       "    <tr>\n",
       "      <th>290</th>\n",
       "      <td>12601</td>\n",
       "      <td>15317</td>\n",
       "    </tr>\n",
       "    <tr>\n",
       "      <th>291</th>\n",
       "      <td>22830</td>\n",
       "      <td>22403</td>\n",
       "    </tr>\n",
       "    <tr>\n",
       "      <th>292</th>\n",
       "      <td>4275</td>\n",
       "      <td>12039</td>\n",
       "    </tr>\n",
       "    <tr>\n",
       "      <th>293</th>\n",
       "      <td>7717</td>\n",
       "      <td>19211</td>\n",
       "    </tr>\n",
       "    <tr>\n",
       "      <th>294</th>\n",
       "      <td>8911</td>\n",
       "      <td>11935</td>\n",
       "    </tr>\n",
       "  </tbody>\n",
       "</table>\n",
       "<p>295 rows × 2 columns</p>\n",
       "</div>"
      ],
      "text/plain": [
       "     Predicted Retail Value  Listed Retail Value\n",
       "0    13892                   13195              \n",
       "1    14847                   31168              \n",
       "2    12601                   24038              \n",
       "3    18047                   10751              \n",
       "4    25508                   41205              \n",
       "..     ...                     ...              \n",
       "290  12601                   15317              \n",
       "291  22830                   22403              \n",
       "292  4275                    12039              \n",
       "293  7717                    19211              \n",
       "294  8911                    11935              \n",
       "\n",
       "[295 rows x 2 columns]"
      ]
     },
     "execution_count": 54,
     "metadata": {},
     "output_type": "execute_result"
    }
   ],
   "source": [
    "print(\"Another utter disappointment...\")\n",
    "result2"
   ]
  }
 ],
 "metadata": {
  "kernelspec": {
   "display_name": "Python 3",
   "language": "python",
   "name": "python3"
  },
  "language_info": {
   "codemirror_mode": {
    "name": "ipython",
    "version": 3
   },
   "file_extension": ".py",
   "mimetype": "text/x-python",
   "name": "python",
   "nbconvert_exporter": "python",
   "pygments_lexer": "ipython3",
   "version": "3.6.5"
  }
 },
 "nbformat": 4,
 "nbformat_minor": 4
}
